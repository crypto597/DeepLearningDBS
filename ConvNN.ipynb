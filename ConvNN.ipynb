{
 "cells": [
  {
   "cell_type": "code",
   "execution_count": 1,
   "metadata": {},
   "outputs": [
    {
     "name": "stdout",
     "output_type": "stream",
     "text": [
      "1.9.0\n"
     ]
    }
   ],
   "source": [
    "import os\n",
    "\n",
    "import matplotlib.pyplot as plt\n",
    "import numpy as np\n",
    "import tensorflow as tf\n",
    "\n",
    "print(tf.__version__)"
   ]
  },
  {
   "cell_type": "code",
   "execution_count": 2,
   "metadata": {},
   "outputs": [],
   "source": [
    "class_mapping = [\"airplane\", \"automobile\", \"bird\", \"cat\", \"deer\", \"dog\", \"frog\", \"horse\", \"ship\", \"truck\"]"
   ]
  },
  {
   "cell_type": "code",
   "execution_count": 3,
   "metadata": {},
   "outputs": [
    {
     "name": "stdout",
     "output_type": "stream",
     "text": [
      "Downloading data from https://www.cs.toronto.edu/~kriz/cifar-10-python.tar.gz\n",
      "170500096/170498071 [==============================] - 105s 1us/step\n"
     ]
    }
   ],
   "source": [
    "(x_train, y_train), (x_test, y_test) = tf.keras.datasets.cifar10.load_data()"
   ]
  },
  {
   "cell_type": "code",
   "execution_count": null,
   "metadata": {},
   "outputs": [],
   "source": [
    "x_predict = x_test[:44]\n",
    "y_predict = y_test[:44]\n",
    "\n",
    "num_class = 10"
   ]
  },
  {
   "cell_type": "code",
   "execution_count": null,
   "metadata": {},
   "outputs": [],
   "source": [
    "y_train = tf.keras.utils.to_categorical(y_train, num_class)\n",
    "y_test = tf.keras.utils.to_categorical(y_test, num_class)"
   ]
  },
  {
   "cell_type": "code",
   "execution_count": null,
   "metadata": {},
   "outputs": [],
   "source": [
    "x_train = x_train.astype('float32')\n",
    "x_test = x_test.astype('float32')"
   ]
  },
  {
   "cell_type": "code",
   "execution_count": null,
   "metadata": {},
   "outputs": [],
   "source": [
    "x_train = x_train / 255.0\n",
    "x_test = x_test / 255.0"
   ]
  },
  {
   "cell_type": "code",
   "execution_count": null,
   "metadata": {},
   "outputs": [],
   "source": [
    "data_gen = tf.keras.preprocessing.image.ImageDataGenerator(\n",
    "    rotation_range=90,\n",
    "    width_shift_range=0.2,\n",
    "    height_shift_range=0.2,\n",
    "    shear_range=0.2,\n",
    "    zoom_range=0.2,\n",
    "    horizontal_flip=True,\n",
    "    fill_mode='nearest')\n",
    "data_gen.fit(x_train)"
   ]
  },
  {
   "cell_type": "code",
   "execution_count": null,
   "metadata": {},
   "outputs": [],
   "source": [
    "def build_cnn_model():\n",
    "    input_layer = tf.keras.layers.Input(shape=(32, 32, 3), name=\"input_layer\")\n",
    "    use_bias = True\n",
    "\n",
    "    # Conv1\n",
    "    conv = tf.keras.layers.Conv2D(32,\n",
    "                                  kernel_size=(3, 3),\n",
    "                                  padding='same',\n",
    "                                  use_bias=use_bias,\n",
    "                                  activation=None)(input_layer)\n",
    "    bn = tf.keras.layers.BatchNormalization(epsilon=1e-06, axis=-1, momentum=0.9)(conv)\n",
    "    activation = tf.keras.layers.Activation(tf.nn.relu)(bn)\n",
    "\n",
    "    # Conv2\n",
    "    conv = tf.keras.layers.Conv2D(32,\n",
    "                                  kernel_size=(3, 3),\n",
    "                                  padding='same',\n",
    "                                  use_bias=use_bias,\n",
    "                                  activation=None)(activation)\n",
    "    bn = tf.keras.layers.BatchNormalization(epsilon=1e-06, axis=-1, momentum=0.9)(conv)\n",
    "    activation = tf.keras.layers.Activation(tf.nn.relu)(bn)\n",
    "\n",
    "    # MaxPooling1\n",
    "    max_pool = tf.keras.layers.MaxPooling2D(pool_size=(2, 2))(activation)\n",
    "    dropout = tf.keras.layers.Dropout(0.2)(max_pool)\n",
    "\n",
    "    # Conv3\n",
    "    conv = tf.keras.layers.Conv2D(64,\n",
    "                                  kernel_size=(3, 3),\n",
    "                                  padding='same',\n",
    "                                  use_bias=use_bias,\n",
    "                                  activation=None)(dropout)\n",
    "    bn = tf.keras.layers.BatchNormalization(epsilon=1e-06, axis=-1, momentum=0.9)(conv)\n",
    "    activation = tf.keras.layers.Activation(tf.nn.relu)(bn)\n",
    "\n",
    "    # Conv4\n",
    "    conv = tf.keras.layers.Conv2D(64,\n",
    "                                  kernel_size=(3, 3),\n",
    "                                  padding='same',\n",
    "                                  use_bias=use_bias,\n",
    "                                  activation=None)(activation)\n",
    "    bn = tf.keras.layers.BatchNormalization(epsilon=1e-06, axis=-1, momentum=0.9)(conv)\n",
    "    activation = tf.keras.layers.Activation(tf.nn.relu)(bn)\n",
    "\n",
    "    # MaxPooling2\n",
    "    max_pool = tf.keras.layers.MaxPooling2D()(activation)\n",
    "    dropout = tf.keras.layers.Dropout(0.3)(max_pool)\n",
    "\n",
    "    # Conv5\n",
    "    conv = tf.keras.layers.Conv2D(128,\n",
    "                                  kernel_size=(3, 3),\n",
    "                                  padding='same',\n",
    "                                  use_bias=use_bias,\n",
    "                                  activation=None)(dropout)\n",
    "    bn = tf.keras.layers.BatchNormalization(epsilon=1e-06, axis=-1, momentum=0.9)(conv)\n",
    "    activation = tf.keras.layers.Activation(tf.nn.relu)(bn)\n",
    "    # Conv6\n",
    "    conv = tf.keras.layers.Conv2D(128,\n",
    "                                  kernel_size=(3, 3),\n",
    "                                  padding='same',\n",
    "                                  use_bias=use_bias,\n",
    "                                  activation=None)(activation)\n",
    "    bn = tf.keras.layers.BatchNormalization(epsilon=1e-06, axis=-1, momentum=0.9)(conv)\n",
    "    activation = tf.keras.layers.Activation(tf.nn.relu)(bn)\n",
    "\n",
    "    # MaxPooling3\n",
    "    max_pool = tf.keras.layers.MaxPooling2D()(activation)\n",
    "    dropout = tf.keras.layers.Dropout(0.4)(max_pool)\n",
    "\n",
    "    # Dense Layer\n",
    "    flatten = tf.keras.layers.Flatten()(dropout)\n",
    "\n",
    "    # Softmax Layer\n",
    "    output = tf.keras.layers.Dense(10, activation=tf.nn.softmax, name='output')(flatten)\n",
    "\n",
    "    return tf.keras.Model(inputs=input_layer, outputs=output)"
   ]
  },
  {
   "cell_type": "code",
   "execution_count": null,
   "metadata": {},
   "outputs": [],
   "source": [
    "model = build_cnn_model()\n",
    "model.summary()"
   ]
  },
  {
   "cell_type": "code",
   "execution_count": null,
   "metadata": {},
   "outputs": [],
   "source": [
    "opt_rms = tf.keras.optimizers.RMSprop(lr=0.001, decay=1e-6)\n",
    "model.compile(loss=tf.keras.losses.categorical_crossentropy, optimizer=opt_rms, metrics=['accuracy'])"
   ]
  },
  {
   "cell_type": "code",
   "execution_count": null,
   "metadata": {},
   "outputs": [],
   "source": [
    "batch_size = 64\n",
    "log_dir = \"training\"\n",
    "\n",
    "tbCallback = tf.keras.callbacks.TensorBoard(log_dir=log_dir, histogram_freq=50,\n",
    "                                            write_graph=True, write_grads=True, batch_size=batch_size,\n",
    "                                            write_images=True)\n",
    "\n",
    "checkpoint_path = os.path.join(log_dir, \"cp.ckpt\")"
   ]
  },
  {
   "cell_type": "code",
   "execution_count": null,
   "metadata": {},
   "outputs": [],
   "source": [
    "# save weights every 5 epochs\n",
    "cp_callback = tf.keras.callbacks.ModelCheckpoint(\n",
    "    checkpoint_path, verbose=1, save_weights_only=True,\n",
    "    period=5)"
   ]
  },
  {
   "cell_type": "code",
   "execution_count": null,
   "metadata": {},
   "outputs": [],
   "source": [
    "model.load_weights(checkpoint_path)"
   ]
  },
  {
   "cell_type": "code",
   "execution_count": null,
   "metadata": {},
   "outputs": [],
   "source": [
    "def lr_schedule(epoch):\n",
    "    lrate = 0.001\n",
    "    if epoch > 75:\n",
    "        lrate = 0.0005\n",
    "    elif epoch > 100:\n",
    "        lrate = 0.0003\n",
    "\n",
    "    return lrate"
   ]
  },
  {
   "cell_type": "code",
   "execution_count": null,
   "metadata": {},
   "outputs": [],
   "source": [
    "model.fit_generator(data_gen.flow(x_train, y_train, batch_size=batch_size),\n",
    "                    steps_per_epoch=x_train.shape[0] // batch_size, epochs=125,\n",
    "                    verbose=1, validation_data=(x_test, y_test),\n",
    "                    callbacks=[tf.keras.callbacks.LearningRateScheduler(lr_schedule), cp_callback, tbCallback])\n",
    "\n",
    "result = model.predict(x_predict / 255.0)"
   ]
  },
  {
   "cell_type": "code",
   "execution_count": null,
   "metadata": {},
   "outputs": [],
   "source": [
    "pos = 1\n",
    "for img, lbl, predict_lbl in zip(x_predict, y_predict, result):\n",
    "    output = np.argmax(predict_lbl, axis=None)\n",
    "    plt.subplot(4, 11, pos)\n",
    "    plt.imshow(img)\n",
    "    plt.axis('off')\n",
    "    if output == lbl:\n",
    "        plt.title(class_mapping[output])\n",
    "    else:\n",
    "        plt.title(class_mapping[output] + \"/\" + class_mapping[lbl[0]], color='#ff0000')\n",
    "    pos += 1"
   ]
  },
  {
   "cell_type": "code",
   "execution_count": null,
   "metadata": {},
   "outputs": [],
   "source": [
    "plt.show()"
   ]
  },
  {
   "cell_type": "code",
   "execution_count": null,
   "metadata": {},
   "outputs": [],
   "source": [
    "scores = model.evaluate(x_test, y_test, batch_size=batch_size, verbose=1)\n",
    "print('\\nTest accuracy: %.3f loss: %.3f' % (scores[1] * 100, scores[0]))"
   ]
  }
 ],
 "metadata": {
  "kernelspec": {
   "display_name": "Python 3",
   "language": "python",
   "name": "python3"
  },
  "language_info": {
   "codemirror_mode": {
    "name": "ipython",
    "version": 3
   },
   "file_extension": ".py",
   "mimetype": "text/x-python",
   "name": "python",
   "nbconvert_exporter": "python",
   "pygments_lexer": "ipython3",
   "version": "3.6.7"
  }
 },
 "nbformat": 4,
 "nbformat_minor": 2
}
